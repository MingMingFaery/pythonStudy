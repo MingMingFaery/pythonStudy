{
 "cells": [
  {
   "cell_type": "code",
   "execution_count": 141,
   "id": "0b281a15",
   "metadata": {},
   "outputs": [],
   "source": [
    "# 需要用到的库\n",
    "import os\n",
    "import pandas as pd\n",
    "from random import randint\n",
    "import numpy\n",
    "import seaborn as sns\n",
    "import matplotlib.pyplot as plt"
   ]
  },
  {
   "cell_type": "markdown",
   "id": "ceb65821",
   "metadata": {},
   "source": [
    "# 数据读取"
   ]
  },
  {
   "cell_type": "markdown",
   "id": "53b5bc48",
   "metadata": {},
   "source": [
    "- PopulationData 文件夹中包含 251 个csv文件，分别存储了世界上 251 个国家和地区 1950~2021 年 72 年间的人口数据，同时包括了不同年龄段的人口数据\n",
    "- 请你读取 251 个文件并将数据汇总到一个数据结构之中（推荐使用pandas库中的DataFrame结构）\n",
    "- 请输出 1950 年和 2021 年的世界总人口"
   ]
  },
  {
   "cell_type": "markdown",
   "id": "04a3b49c",
   "metadata": {},
   "source": [
    "- 可以使用多种数据结构来存储数据"
   ]
  },
  {
   "cell_type": "markdown",
   "id": "d0efd4b6",
   "metadata": {},
   "source": [
    "# 异常值处理"
   ]
  },
  {
   "cell_type": "markdown",
   "id": "c1dede70",
   "metadata": {},
   "source": [
    "- 识别数据中的异常值并对异常值进行修复（提示：某国某年的总人口等于各个年龄段的人口之和）"
   ]
  },
  {
   "cell_type": "markdown",
   "id": "57fd8f8b",
   "metadata": {},
   "source": [
    "> 异常数据：\n",
    "\n",
    "> Afghanistan 2005 Population:24411196 -> 0\n",
    "\n",
    "> Germany 2013 Population:81680590 -> None\n",
    "\n",
    "> Somalia 2009 整体缺失"
   ]
  },
  {
   "cell_type": "markdown",
   "id": "15d74e06",
   "metadata": {},
   "source": [
    "# 数据挖掘"
   ]
  },
  {
   "cell_type": "markdown",
   "id": "6dfb3be0",
   "metadata": {},
   "source": [
    "- 计算每个国家 72 年间的人口平均增长率，并列出增长率最高的10个国家，计算公式为：\n",
    "$人口增长率=（年末人口数-年初人口数）/年平均人口×1000‰$"
   ]
  },
  {
   "cell_type": "markdown",
   "id": "b9335332",
   "metadata": {},
   "source": [
    "- 计算平均增长率与平均人口数之间的相关系数，计算公式为：\n",
    "$$\\rho  = {{\\sum\\limits_{i = 1}^n {\\left( {{X_i} - \\bar X} \\right)\\left( {{Y_i} - \\bar Y} \\right)} } \\over {\\sqrt {\\sum\\limits_{i = 1}^n {{{\\left( {{X_i} - \\bar X} \\right)}^2}} } \\sqrt {\\sum\\limits_{i = 1}^n {{{\\left( {{Y_i} - \\bar Y} \\right)}^2}} } }}$$"
   ]
  },
  {
   "cell_type": "markdown",
   "id": "1e4e3aa8",
   "metadata": {},
   "source": [
    "- 用极差变换法对数据进行标准化\n",
    "$$X_i^* = {{{X_i} - Min\\left( X \\right)} \\over {Max\\left( X \\right) - Min\\left( X \\right)}}$$"
   ]
  },
  {
   "cell_type": "markdown",
   "id": "8ef7950b",
   "metadata": {},
   "source": [
    "# 数据预测"
   ]
  },
  {
   "cell_type": "markdown",
   "id": "b402adde",
   "metadata": {},
   "source": [
    "- 根据已有数据，对 China 未来三年（2022~2024）的总人口数进行预测（提示：使用移动平均法）\n",
    "\n",
    "$$F\\left( t \\right) = {{F\\left( {t - 1} \\right) +  \\ldots  + F\\left( {t - N} \\right)} \\over N}$$"
   ]
  },
  {
   "cell_type": "markdown",
   "id": "fcda439d",
   "metadata": {},
   "source": [
    "# 数据可视化"
   ]
  },
  {
   "cell_type": "markdown",
   "id": "a94283b6",
   "metadata": {},
   "source": [
    "- 绘制 China 2021 年各个年龄段人口的频数分布直方图 "
   ]
  }
 ],
 "metadata": {
  "kernelspec": {
   "display_name": "Python 3 (ipykernel)",
   "language": "python",
   "name": "python3"
  },
  "language_info": {
   "codemirror_mode": {
    "name": "ipython",
    "version": 3
   },
   "file_extension": ".py",
   "mimetype": "text/x-python",
   "name": "python",
   "nbconvert_exporter": "python",
   "pygments_lexer": "ipython3",
   "version": "3.9.13"
  },
  "toc": {
   "base_numbering": 1,
   "nav_menu": {},
   "number_sections": true,
   "sideBar": true,
   "skip_h1_title": false,
   "title_cell": "Table of Contents",
   "title_sidebar": "Contents",
   "toc_cell": false,
   "toc_position": {},
   "toc_section_display": true,
   "toc_window_display": false
  }
 },
 "nbformat": 4,
 "nbformat_minor": 5
}
